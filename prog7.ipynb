{
 "cells": [
  {
   "cell_type": "code",
   "execution_count": 1,
   "id": "75ad1c4a",
   "metadata": {},
   "outputs": [],
   "source": [
    "import numpy as np\n",
    "import pandas as pd\n",
    "from matplotlib import pyplot as plt\n",
    "from sklearn.mixture import GaussianMixture\n",
    "from sklearn.cluster import KMeans"
   ]
  },
  {
   "cell_type": "code",
   "execution_count": 2,
   "id": "ee0c8a91",
   "metadata": {},
   "outputs": [
    {
     "name": "stdout",
     "output_type": "stream",
     "text": [
      "x: [[1.  1. ]\n",
      " [2.  1.5]\n",
      " [3.  3. ]\n",
      " [4.  5. ]\n",
      " [5.  3.5]\n",
      " [6.  4.5]\n",
      " [7.  3.5]]\n"
     ]
    }
   ],
   "source": [
    "data = pd.read_csv('data/ex.csv')\n",
    "f1 = data['V1'].values\n",
    "f2 = data['V2'].values\n",
    "x = np.array(list(zip(f1,f2)))\n",
    "print('x:',x)"
   ]
  },
  {
   "cell_type": "code",
   "execution_count": 3,
   "id": "7216780c",
   "metadata": {},
   "outputs": [
    {
     "name": "stdout",
     "output_type": "stream",
     "text": [
      "Graph for whole dataset\n"
     ]
    },
    {
     "data": {
      "image/png": "[encoded data removed]",
      "text/plain": [
       "<Figure size 432x288 with 1 Axes>"
      ]
     },
     "metadata": {
      "needs_background": "light"
     },
     "output_type": "display_data"
    },
    {
     "name": "stdout",
     "output_type": "stream",
     "text": [
      "Labels for KMeans are [0 0 0 1 1 1 1]\n",
      "Graph for KMeans Algorithm\n",
      "Centroid: [[2.         1.83333333]\n",
      " [5.5        4.125     ]]\n"
     ]
    },
    {
     "data": {
      "image/png": "[encoded data removed]",
      "text/plain": [
       "<Figure size 432x288 with 1 Axes>"
      ]
     },
     "metadata": {
      "needs_background": "light"
     },
     "output_type": "display_data"
    },
    {
     "name": "stdout",
     "output_type": "stream",
     "text": [
      "Labels for GMM are [0 0 0 1 1 1 1]\n",
      "Graph for EM Algorithm\n"
     ]
    },
    {
     "data": {
      "image/png": "[encoded data removed]",
      "text/plain": [
       "<Figure size 432x288 with 1 Axes>"
      ]
     },
     "metadata": {
      "needs_background": "light"
     },
     "output_type": "display_data"
    }
   ],
   "source": [
    "print('Graph for whole dataset')\n",
    "plt.scatter(f1, f1, c='black')\n",
    "plt.show()\n",
    "\n",
    "kMeans = KMeans(2)\n",
    "labels = kMeans.fit(x).predict(x)\n",
    "print('Labels for KMeans are', labels)\n",
    "print('Graph for KMeans Algorithm')\n",
    "plt.scatter(f1, f1, c=labels)\n",
    "\n",
    "centroid = kMeans.cluster_centers_\n",
    "print('Centroid:', centroid)\n",
    "plt.scatter(centroid[:,0], centroid[:,1], marker='*', c='red')\n",
    "plt.show()\n",
    "\n",
    "gmm = GaussianMixture(2)\n",
    "labels = gmm.fit(x).predict(x)\n",
    "print('Labels for GMM are', labels)\n",
    "print('Graph for EM Algorithm')\n",
    "plt.scatter(f1, f1, c=labels)\n",
    "plt.show()"
   ]
  }
 ],
 "metadata": {
  "kernelspec": {
   "display_name": "Python 3 (ipykernel)",
   "language": "python",
   "name": "python3"
  },
  "language_info": {
   "codemirror_mode": {
    "name": "ipython",
    "version": 3
   },
   "file_extension": ".py",
   "mimetype": "text/x-python",
   "name": "python",
   "nbconvert_exporter": "python",
   "pygments_lexer": "ipython3",
   "version": "3.9.7"
  }
 },
 "nbformat": 4,
 "nbformat_minor": 5
}
