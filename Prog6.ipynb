{
 "cells": [
  {
   "cell_type": "code",
   "execution_count": 1,
   "id": "33a76f9c",
   "metadata": {},
   "outputs": [],
   "source": [
    "import numpy as np\n",
    "import pandas as pd"
   ]
  },
  {
   "cell_type": "code",
   "execution_count": 2,
   "id": "395eda14",
   "metadata": {},
   "outputs": [],
   "source": [
    "mush = pd.read_csv('data/mushrooms.csv')\n",
    "mush = mush.replace('?', np.nan)\n",
    "mush.dropna(axis=1, inplace=True)\n",
    "target = 'class'\n",
    "features = mush.columns[mush.columns!=target]\n",
    "target_classes = mush[target].unique()\n",
    "test = mush.sample(frac=0.3)\n",
    "mush = mush.drop(test.index)\n",
    "cond_prob = {}\n",
    "target_class_prob = {}"
   ]
  },
  {
   "cell_type": "code",
   "execution_count": 3,
   "id": "7a39da01",
   "metadata": {},
   "outputs": [],
   "source": [
    "for t in target_classes:\n",
    "    mush_t = mush[mush[target]==t][features]\n",
    "    target_class_prob[t] = float(len(mush_t)/len(mush))\n",
    "    class_prob = {}\n",
    "    \n",
    "    for col in mush_t.columns:\n",
    "        col_prob = {}\n",
    "        \n",
    "        for val, cnt in mush_t[col].value_counts().iteritems():\n",
    "            pr = cnt / len(mush_t)\n",
    "            col_prob[val] = pr\n",
    "        class_prob[col] = col_prob\n",
    "    cond_prob[t] = class_prob"
   ]
  },
  {
   "cell_type": "code",
   "execution_count": 4,
   "id": "16afb3f5",
   "metadata": {},
   "outputs": [],
   "source": [
    "def calc_probs(x):\n",
    "    probs = {}\n",
    "    for t in target_classes:\n",
    "        p = target_class_prob[t]\n",
    "        for col, val in x.iteritems():\n",
    "            try:\n",
    "                p *= cond_prob[t][col][val]\n",
    "            except:\n",
    "                p = 0\n",
    "        probs[t] = p\n",
    "    return probs\n",
    "            "
   ]
  },
  {
   "cell_type": "code",
   "execution_count": 5,
   "id": "4ad96e90",
   "metadata": {},
   "outputs": [],
   "source": [
    "def classify(x):\n",
    "    probs = calc_probs(x)\n",
    "    max = 0\n",
    "    max_class = ''\n",
    "    for cl, pr in probs.items():\n",
    "        if pr > max:\n",
    "            max = pr\n",
    "            max_class = cl\n",
    "    return max_class"
   ]
  },
  {
   "cell_type": "code",
   "execution_count": 6,
   "id": "a4c1b21f",
   "metadata": {},
   "outputs": [
    {
     "name": "stdout",
     "output_type": "stream",
     "text": [
      "5674 correct of 5687\n",
      "Accuracy 0.9977140847547037\n"
     ]
    }
   ],
   "source": [
    "b = []\n",
    "for i in mush.index:\n",
    "    b.append(classify(mush.loc[i,features]) == mush.loc[i, target] )\n",
    "print(sum(b), 'correct of', len(mush))\n",
    "print('Accuracy', sum(b)/len(mush))"
   ]
  },
  {
   "cell_type": "code",
   "execution_count": 7,
   "id": "88289504",
   "metadata": {},
   "outputs": [
    {
     "name": "stdout",
     "output_type": "stream",
     "text": [
      "2435 correct of 2437\n",
      "Accuracy 0.9991793188346327\n"
     ]
    }
   ],
   "source": [
    "b = []\n",
    "for i in test.index:\n",
    "    b.append(classify(test.loc[i,features]) == test.loc[i, target] )\n",
    "print(sum(b), 'correct of', len(test))\n",
    "print('Accuracy', sum(b)/len(test))"
   ]
  }
 ],
 "metadata": {
  "kernelspec": {
   "display_name": "Python 3 (ipykernel)",
   "language": "python",
   "name": "python3"
  },
  "language_info": {
   "codemirror_mode": {
    "name": "ipython",
    "version": 3
   },
   "file_extension": ".py",
   "mimetype": "text/x-python",
   "name": "python",
   "nbconvert_exporter": "python",
   "pygments_lexer": "ipython3",
   "version": "3.9.7"
  }
 },
 "nbformat": 4,
 "nbformat_minor": 5
}
