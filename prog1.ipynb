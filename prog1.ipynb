{
 "cells": [
  {
   "cell_type": "code",
   "execution_count": 1,
   "id": "b9034c2e",
   "metadata": {},
   "outputs": [],
   "source": [
    "Graph_Nodes = {\n",
    "                \n",
    "    'A' : [('B', 6), ('F',3)],\n",
    "    'B' : [('C', 3), ('D',2)],\n",
    "    'C' : [('D', 1), ('E',5)],\n",
    "    'D' : [('C', 1), ('E',8)],\n",
    "    'E' : [('I', 5), ('J',5)],\n",
    "    'F' : [('G', 1), ('H',7)],\n",
    "    'G' : [('I', 3)],\n",
    "    'H' : [('I', 2)],\n",
    "    'I' : [('E', 5), ('J',3)],    \n",
    "}"
   ]
  },
  {
   "cell_type": "code",
   "execution_count": 2,
   "id": "4b006be6",
   "metadata": {},
   "outputs": [],
   "source": [
    "def heuristic(n):\n",
    "    H_dist = {\n",
    "        'A' : 10,\n",
    "        'B' : 8,\n",
    "        'C' : 5,\n",
    "        'D' : 7,\n",
    "        'E' : 3,\n",
    "        'F' : 6,\n",
    "        'G' : 5,\n",
    "        'H' : 3,\n",
    "        'I' : 1,\n",
    "        'J' : 0,\n",
    "    }\n",
    "    return H_dist[n]"
   ]
  },
  {
   "cell_type": "code",
   "execution_count": 3,
   "id": "ea935ce5",
   "metadata": {},
   "outputs": [],
   "source": [
    "def get_neighbors(n):\n",
    "    if n in Graph_Nodes:\n",
    "        return Graph_Nodes[n]\n",
    "    else:\n",
    "        return None"
   ]
  },
  {
   "cell_type": "code",
   "execution_count": 4,
   "id": "15f9841e",
   "metadata": {},
   "outputs": [],
   "source": [
    "def A_Star_Algo(start_node, stop_node):\n",
    "    open_set = set(start_node)\n",
    "    closed_set = set()\n",
    "    g = {}\n",
    "    parent = {}\n",
    "    g[start_node] = 0\n",
    "    parent[start_node] = start_node\n",
    "    \n",
    "    while len(open_set)>0:\n",
    "        n = None\n",
    "        \n",
    "        for v in open_set:\n",
    "            if n == None or g[v] + heuristic(v) < g[n] + heuristic(n):\n",
    "                 n = v\n",
    "        if n==stop_node or Graph_Nodes[n]==None:\n",
    "            pass\n",
    "        else:\n",
    "            for (m, weight) in get_neighbors(n):\n",
    "                if m not in open_set and m not in closed_set:\n",
    "                    open_set.add(m)\n",
    "                    parent[m] = n\n",
    "                    g[m] = g[n]+weight                    \n",
    "                    \n",
    "                else:\n",
    "                    if g[m] > g[n]+weight:\n",
    "                        g[m] = g[n]+weight\n",
    "                        parent[m] = n\n",
    "                        \n",
    "                        if m in closed_set:\n",
    "                            closed_set.remove(m)\n",
    "                            open_set.add(m)\n",
    "        \n",
    "        if n==None:\n",
    "            print('Path does not exists')\n",
    "            return None\n",
    "        if n==stop_node:\n",
    "            path = []\n",
    "            while parent[n]!=n:\n",
    "                path.append(n)\n",
    "                n = parent[n]\n",
    "            path.append(start_node)\n",
    "            path.reverse()\n",
    "            \n",
    "            print('Path found {}'.format(path))\n",
    "            return path\n",
    "        \n",
    "        open_set.remove(n)\n",
    "        closed_set.add(n)\n",
    "    \n",
    "    print('Path does not exists')\n",
    "    return None    "
   ]
  },
  {
   "cell_type": "code",
   "execution_count": 5,
   "id": "2dfdd94c",
   "metadata": {},
   "outputs": [
    {
     "name": "stdout",
     "output_type": "stream",
     "text": [
      "Path found ['A', 'F', 'G', 'I', 'J']\n"
     ]
    },
    {
     "data": {
      "text/plain": [
       "['A', 'F', 'G', 'I', 'J']"
      ]
     },
     "execution_count": 5,
     "metadata": {},
     "output_type": "execute_result"
    }
   ],
   "source": [
    "A_Star_Algo('A', 'J')"
   ]
  }
 ],
 "metadata": {
  "kernelspec": {
   "display_name": "Python 3 (ipykernel)",
   "language": "python",
   "name": "python3"
  },
  "language_info": {
   "codemirror_mode": {
    "name": "ipython",
    "version": 3
   },
   "file_extension": ".py",
   "mimetype": "text/x-python",
   "name": "python",
   "nbconvert_exporter": "python",
   "pygments_lexer": "ipython3",
   "version": "3.9.7"
  }
 },
 "nbformat": 4,
 "nbformat_minor": 5
}
