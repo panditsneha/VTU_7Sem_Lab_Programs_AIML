{
 "cells": [
  {
   "cell_type": "code",
   "execution_count": 1,
   "id": "46eb56ba",
   "metadata": {},
   "outputs": [],
   "source": [
    "import math\n",
    "\n",
    "def dataset_split(data, arc, val):\n",
    "    newData = []\n",
    "    for rec in data:\n",
    "        if rec[arc] == val:\n",
    "            reducedSet = list(rec[:arc])\n",
    "            reducedSet.extend(rec[arc+1:])\n",
    "            newData.append(reducedSet)\n",
    "    return newData"
   ]
  },
  {
   "cell_type": "code",
   "execution_count": 2,
   "id": "ec73271a",
   "metadata": {},
   "outputs": [],
   "source": [
    "def entropy_calc(data):\n",
    "    entries = len(data)\n",
    "    labels = {}\n",
    "    \n",
    "    for rec in data:\n",
    "        label = rec[-1]\n",
    "        if label not in labels.keys():\n",
    "            labels[label] = 0\n",
    "        labels[label] += 1\n",
    "    entropy = 0.0\n",
    "    for key in labels:\n",
    "        prob = float(labels[key])/entries\n",
    "        entropy -= prob * math.log(prob,2)\n",
    "    return entropy            "
   ]
  },
  {
   "cell_type": "code",
   "execution_count": 3,
   "id": "4c2bb816",
   "metadata": {},
   "outputs": [],
   "source": [
    "def attribute_selection(data):\n",
    "    features = len(data[0])-1\n",
    "    baseEntropy = entropy_calc(data)\n",
    "    max_info_gain = 0.0\n",
    "    best_attr = -1\n",
    "    \n",
    "    for i in range(features):\n",
    "        attr_list = [rec[i] for rec in data]\n",
    "        unique_vals = set(attr_list)\n",
    "        newEntropy = 0.0\n",
    "        attrEntropy = 0.0\n",
    "        \n",
    "        for value in unique_vals:\n",
    "            new_data = dataset_split(data, i, value)\n",
    "            prob = float(len(new_data))/len(data)\n",
    "            newEntropy = prob * entropy_calc(new_data)\n",
    "            attrEntropy += newEntropy\n",
    "        infoGain = baseEntropy - attrEntropy\n",
    "        if infoGain>max_info_gain:\n",
    "            max_info_gain = infoGain\n",
    "            best_attr = i\n",
    "    return best_attr"
   ]
  },
  {
   "cell_type": "code",
   "execution_count": 4,
   "id": "838ff4a7",
   "metadata": {},
   "outputs": [],
   "source": [
    "def decision_tree(data, labels):\n",
    "    classList = [rec[-1] for rec in data]\n",
    "\n",
    "    if classList.count(classList[0]) == len(classList):\n",
    "        return classList[0]\n",
    "    \n",
    "    maxInfoNode = attribute_selection(data)\n",
    "    treeLabels = labels[maxInfoNode]\n",
    "    \n",
    "    theTree = {treeLabels : {}}\n",
    "    del(labels[maxInfoNode])\n",
    "    \n",
    "    node_values = [rec[maxInfoNode] for rec in data]\n",
    "    unique_vals = set(node_values)\n",
    "    \n",
    "    for value in unique_vals:\n",
    "        sublabel = labels[:]\n",
    "        theTree[treeLabels][value] = decision_tree(dataset_split(data, maxInfoNode, value), sublabel)\n",
    "    return theTree"
   ]
  },
  {
   "cell_type": "code",
   "execution_count": 5,
   "id": "7ce4ce26",
   "metadata": {},
   "outputs": [],
   "source": [
    "def print_tree(tree, level):\n",
    "    if tree=='yes' or tree=='no':\n",
    "        print(''*level, 'd=', tree)\n",
    "        return\n",
    "    for key, value in tree.items():\n",
    "        print(''*level, key)\n",
    "        print_tree(value, level*2)"
   ]
  },
  {
   "cell_type": "code",
   "execution_count": 6,
   "id": "56a457de",
   "metadata": {},
   "outputs": [
    {
     "name": "stdout",
     "output_type": "stream",
     "text": [
      "{'outlook': {'sunny': {'humidity': {'high': 'no', 'normal': 'yes'}}, 'overcast': 'yes', 'rain': {'wind': {'strong': 'no', 'weak': 'yes'}}}}\n"
     ]
    }
   ],
   "source": [
    "with open('data/tennis.csv') as file:\n",
    "    fdata = [line.strip() for line in file]\n",
    "    meta_data = fdata[0].split(',')\n",
    "    train_data = [x.split(',') for x in fdata[1:]]\n",
    "\n",
    "tree = decision_tree(train_data, meta_data)\n",
    "print(tree)"
   ]
  },
  {
   "cell_type": "code",
   "execution_count": 7,
   "id": "f4c7b0dc",
   "metadata": {},
   "outputs": [
    {
     "name": "stdout",
     "output_type": "stream",
     "text": [
      " outlook\n",
      " sunny\n",
      " humidity\n",
      " high\n",
      " d= no\n",
      " normal\n",
      " d= yes\n",
      " overcast\n",
      " d= yes\n",
      " rain\n",
      " wind\n",
      " strong\n",
      " d= no\n",
      " weak\n",
      " d= yes\n"
     ]
    }
   ],
   "source": [
    "print_tree(tree, 1)"
   ]
  }
 ],
 "metadata": {
  "kernelspec": {
   "display_name": "Python 3 (ipykernel)",
   "language": "python",
   "name": "python3"
  },
  "language_info": {
   "codemirror_mode": {
    "name": "ipython",
    "version": 3
   },
   "file_extension": ".py",
   "mimetype": "text/x-python",
   "name": "python",
   "nbconvert_exporter": "python",
   "pygments_lexer": "ipython3",
   "version": "3.9.7"
  }
 },
 "nbformat": 4,
 "nbformat_minor": 5
}
