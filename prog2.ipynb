{
 "cells": [
  {
   "cell_type": "code",
   "execution_count": 1,
   "id": "337e979c",
   "metadata": {},
   "outputs": [],
   "source": [
    "H = {'A': 1, 'B': 6, 'C': 2, 'D': 12, 'E': 2, 'F': 1, 'G': 5, 'H': 7, 'I': 7, 'J': 1, 'T': 3}\n",
    "graph = {\n",
    "    'A': [[('B', 1), ('C', 1)], [('D', 1)]],\n",
    "    'B': [[('G', 1)], [('H', 1)]],\n",
    "    'C': [[('J', 1)]],\n",
    "    'D': [[('E', 1), ('F', 1)]],\n",
    "    'G': [[('I', 1)]]   \n",
    "}"
   ]
  },
  {
   "cell_type": "code",
   "execution_count": 2,
   "id": "bff36424",
   "metadata": {},
   "outputs": [],
   "source": [
    "class Graph:\n",
    "    def __init__(self, graph, heuristic_value, start_node):\n",
    "        self.graph = graph\n",
    "        self.H = heuristic_value \n",
    "        self.start = start_node\n",
    "        self.parent = {}\n",
    "        self.status = {}\n",
    "        self.solution_graph = {}\n",
    "    \n",
    "    def applyAOStar(self):\n",
    "        return self.AO_Star(self.start, False)\n",
    "    def get_neighbors(self, v):\n",
    "        return self.graph.get(v,'')\n",
    "    def get_status(self, v):\n",
    "        return self.status.get(v,0)\n",
    "    def set_status(self, v, val):\n",
    "        self.status[v] = val\n",
    "    def get_heuristic_value(self, n):\n",
    "        return self.H.get(n,0)\n",
    "    def set_heuristic_value(self, n, val):\n",
    "        self.H[n] = val\n",
    "    \n",
    "    def print_solution_graph(self):\n",
    "        print('The starting node is {}'.format(self.start))\n",
    "        print('Path found {}'.format(self.solution_graph))\n",
    "    \n",
    "    def compute_minimum_child_node_value(self, v):\n",
    "        minimum_cost = 0\n",
    "        child_node_value_list_dict = {}\n",
    "        child_node_value_list_dict[minimum_cost] = []\n",
    "        flag = True\n",
    "        \n",
    "        for n in self.get_neighbors(v):\n",
    "            cost = 0\n",
    "            node_list = []\n",
    "            \n",
    "            for c, weight in n:\n",
    "                cost = cost + self.get_heuristic_value(c) + weight\n",
    "                node_list.append(c)\n",
    "            if flag == True:\n",
    "                minimum_cost = cost\n",
    "                child_node_value_list_dict[minimum_cost] = node_list\n",
    "                flag = False\n",
    "            else:\n",
    "                if minimum_cost > cost:\n",
    "                    minimum_cost = cost\n",
    "                    child_node_value_list_dict[minimum_cost] = node_list\n",
    "                    \n",
    "        return minimum_cost, child_node_value_list_dict[minimum_cost]\n",
    "    \n",
    "    def AO_Star(self, v, backtrack):\n",
    "        if self.get_status(v) >= 0:\n",
    "            minimum_cost, child_node_list = self.compute_minimum_child_node_value(v)\n",
    "            self.set_heuristic_value(v,minimum_cost)\n",
    "            self.set_status(v,len(child_node_list))\n",
    "            \n",
    "            solved = True\n",
    "            for child_node in child_node_list:\n",
    "                self.parent[child_node] = v\n",
    "                if self.get_status(child_node)!=-1:\n",
    "                    solved = solved & False\n",
    "            if solved==True:\n",
    "                self.set_status(v,-1)\n",
    "                self.solution_graph[v] = child_node_list\n",
    "                \n",
    "            if v != self.start:\n",
    "                self.AO_Star(self.parent[v], True)\n",
    "            \n",
    "            if backtrack==False:\n",
    "                for child_node in child_node_list:\n",
    "                    self.set_status(child_node, 0)\n",
    "                    self.AO_Star(child_node, False)                    "
   ]
  },
  {
   "cell_type": "code",
   "execution_count": 3,
   "id": "9432d579",
   "metadata": {},
   "outputs": [
    {
     "name": "stdout",
     "output_type": "stream",
     "text": [
      "The starting node is A\n",
      "Path found {'I': [], 'G': ['I'], 'B': ['G'], 'J': [], 'C': ['J'], 'A': ['B', 'C']}\n"
     ]
    }
   ],
   "source": [
    "g = Graph(graph,H,'A')\n",
    "g.applyAOStar()\n",
    "g.print_solution_graph()"
   ]
  }
 ],
 "metadata": {
  "kernelspec": {
   "display_name": "Python 3 (ipykernel)",
   "language": "python",
   "name": "python3"
  },
  "language_info": {
   "codemirror_mode": {
    "name": "ipython",
    "version": 3
   },
   "file_extension": ".py",
   "mimetype": "text/x-python",
   "name": "python",
   "nbconvert_exporter": "python",
   "pygments_lexer": "ipython3",
   "version": "3.9.7"
  }
 },
 "nbformat": 4,
 "nbformat_minor": 5
}
