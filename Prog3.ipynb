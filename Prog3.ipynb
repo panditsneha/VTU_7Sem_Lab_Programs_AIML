{
 "cells": [
  {
   "cell_type": "code",
   "execution_count": 1,
   "id": "b6606162",
   "metadata": {},
   "outputs": [
    {
     "data": {
      "text/plain": [
       "[['Sky', 'AirTemp', 'Humidity', 'Wind', 'Water', 'Forecast', 'EnjoySport'],\n",
       " ['Sunny', 'Warm', 'Normal', 'Strong', 'Warm', 'Same', '1'],\n",
       " ['Sunny', 'Warm', 'High', 'Strong', 'Warm', 'Same', '1'],\n",
       " ['Rainy', 'Cold', 'High', 'Strong', 'Warm', 'Change', '0'],\n",
       " ['Sunny', 'Warm', 'High', 'Strong', 'Cool', 'Change', '1']]"
      ]
     },
     "execution_count": 1,
     "metadata": {},
     "output_type": "execute_result"
    }
   ],
   "source": [
    "dataarr = []\n",
    "with open('data/ENJOYSPORT.csv') as f:\n",
    "    for line in f:\n",
    "        dataarr.append(line.strip().split(','))\n",
    "dataarr"
   ]
  },
  {
   "cell_type": "code",
   "execution_count": 2,
   "id": "b8e7ae9b",
   "metadata": {},
   "outputs": [],
   "source": [
    "rows = len(dataarr)\n",
    "cols = len(dataarr[0])\n",
    "\n",
    "shypo = ['0']*(cols-1)\n",
    "ghypo = [['?']*(cols-1)]"
   ]
  },
  {
   "cell_type": "code",
   "execution_count": 3,
   "id": "966910d7",
   "metadata": {},
   "outputs": [
    {
     "name": "stdout",
     "output_type": "stream",
     "text": [
      "Specific Hypohesis after row  1 is ['Sunny', 'Warm', 'Normal', 'Strong', 'Warm', 'Same']\n",
      "General Hypohesis after row  1 is [['?', '?', '?', '?', '?', '?']]\n",
      "Specific Hypohesis after row  2 is ['Sunny', 'Warm', '?', 'Strong', 'Warm', 'Same']\n",
      "General Hypohesis after row  2 is [['?', '?', '?', '?', '?', '?']]\n",
      "Specific Hypohesis after row  3 is ['Sunny', 'Warm', '?', 'Strong', 'Warm', 'Same']\n",
      "General Hypohesis after row  3 is [['Sunny', '?', '?', '?', '?', '?'], ['?', 'Warm', '?', '?', '?', '?'], ['?', '?', '?', '?', '?', 'Same']]\n",
      "Specific Hypohesis after row  4 is ['Sunny', 'Warm', '?', 'Strong', '?', '?']\n",
      "General Hypohesis after row  4 is [['Sunny', '?', '?', '?', '?', '?'], ['?', 'Warm', '?', '?', '?', '?']]\n"
     ]
    }
   ],
   "source": [
    "for x in range(1, rows):\n",
    "    lst = dataarr[x]\n",
    "    \n",
    "    if lst[cols-1] == '1':\n",
    "        for i in range(0,cols-1):\n",
    "            if lst[i] == shypo[i]:\n",
    "                continue\n",
    "            shypo[i] = '?' if shypo[i]!='0' else lst[i]\n",
    "            \n",
    "            for g in ghypo:\n",
    "                if g[i]!='?' and shypo[i]=='?':\n",
    "                    ghypo.remove(g)\n",
    "    elif lst[cols-1] == '0':\n",
    "        ghypo.clear()\n",
    "        for i in range(0,cols-1):\n",
    "            if lst[i]!=shypo[i] and shypo[i]!='?':\n",
    "                temp_lst = ['?']*(i) + [shypo[i]] + ['?']*(cols-2-i)\n",
    "                if temp_lst not in ghypo:\n",
    "                    ghypo.append(temp_lst)\n",
    "    print('Specific Hypohesis after row ',x, 'is', shypo)\n",
    "    print('General Hypohesis after row ',x, 'is', ghypo)"
   ]
  },
  {
   "cell_type": "code",
   "execution_count": 4,
   "id": "5b70f5b9",
   "metadata": {},
   "outputs": [
    {
     "name": "stdout",
     "output_type": "stream",
     "text": [
      "Final Specific Hypohesis is ['Sunny', 'Warm', '?', 'Strong', '?', '?']\n",
      "Final Genral Hypohesis is [['Sunny', '?', '?', '?', '?', '?'], ['?', 'Warm', '?', '?', '?', '?']]\n"
     ]
    }
   ],
   "source": [
    "print('Final Specific Hypohesis is', shypo)\n",
    "print('Final Genral Hypohesis is', ghypo)"
   ]
  }
 ],
 "metadata": {
  "kernelspec": {
   "display_name": "Python 3 (ipykernel)",
   "language": "python",
   "name": "python3"
  },
  "language_info": {
   "codemirror_mode": {
    "name": "ipython",
    "version": 3
   },
   "file_extension": ".py",
   "mimetype": "text/x-python",
   "name": "python",
   "nbconvert_exporter": "python",
   "pygments_lexer": "ipython3",
   "version": "3.9.7"
  }
 },
 "nbformat": 4,
 "nbformat_minor": 5
}
